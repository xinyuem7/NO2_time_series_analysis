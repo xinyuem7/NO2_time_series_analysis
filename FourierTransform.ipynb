{
 "cells": [
  {
   "cell_type": "markdown",
   "id": "a589b5b6",
   "metadata": {},
   "source": [
    "Packages"
   ]
  },
  {
   "cell_type": "code",
   "execution_count": 1,
   "id": "4c05057e",
   "metadata": {},
   "outputs": [],
   "source": [
    "import pandas as pd\n",
    "import numpy as np\n",
    "\n",
    "import functools\n",
    "from typing import Any, Tuple\n",
    "\n",
    "import scipy.signal as scipy_signal\n",
    "\n",
    "from matplotlib import colorbar\n",
    "import matplotlib.pyplot as plt\n",
    "import cartopy.crs as ccrs\n",
    "import folium\n",
    "import plotly.express as px"
   ]
  },
  {
   "cell_type": "code",
   "execution_count": 3,
   "id": "3ad9260f",
   "metadata": {},
   "outputs": [
    {
     "name": "stdout",
     "output_type": "stream",
     "text": [
      "Collecting finufft\n",
      "  Downloading finufft-2.1.0-cp311-cp311-macosx_10_15_universal2.whl (3.0 MB)\n",
      "\u001b[2K     \u001b[90m━━━━━━━━━━━━━━━━━━━━━━━━━━━━━━━━━━━━━━━━\u001b[0m \u001b[32m3.0/3.0 MB\u001b[0m \u001b[31m13.6 MB/s\u001b[0m eta \u001b[36m0:00:00\u001b[0m00:01\u001b[0m00:01\u001b[0m\n",
      "\u001b[?25hRequirement already satisfied: numpy>=1.12.0 in /Users/zoehaskellcraig/anaconda3/lib/python3.11/site-packages (from finufft) (1.24.3)\n",
      "Installing collected packages: finufft\n",
      "Successfully installed finufft-2.1.0\n",
      "Note: you may need to restart the kernel to use updated packages.\n"
     ]
    }
   ],
   "source": [
    "#pip install finufft"
   ]
  },
  {
   "cell_type": "code",
   "execution_count": 2,
   "id": "41a531c3",
   "metadata": {},
   "outputs": [],
   "source": [
    "import finufft"
   ]
  },
  {
   "cell_type": "markdown",
   "id": "525fb40e",
   "metadata": {},
   "source": [
    "Data import and cleaning"
   ]
  },
  {
   "cell_type": "code",
   "execution_count": 3,
   "id": "e6fc1664",
   "metadata": {},
   "outputs": [],
   "source": [
    "df_NO2 = pd.read_csv(\"observation_set.csv\")"
   ]
  },
  {
   "cell_type": "code",
   "execution_count": 4,
   "id": "ab30145a",
   "metadata": {},
   "outputs": [
    {
     "data": {
      "text/html": [
       "<div>\n",
       "<style scoped>\n",
       "    .dataframe tbody tr th:only-of-type {\n",
       "        vertical-align: middle;\n",
       "    }\n",
       "\n",
       "    .dataframe tbody tr th {\n",
       "        vertical-align: top;\n",
       "    }\n",
       "\n",
       "    .dataframe thead th {\n",
       "        text-align: right;\n",
       "    }\n",
       "</style>\n",
       "<table border=\"1\" class=\"dataframe\">\n",
       "  <thead>\n",
       "    <tr style=\"text-align: right;\">\n",
       "      <th></th>\n",
       "      <th>OBJECTID</th>\n",
       "      <th>datetime</th>\n",
       "      <th>run_index</th>\n",
       "      <th>Longitude</th>\n",
       "      <th>Latitude</th>\n",
       "      <th>Elevation</th>\n",
       "      <th>hour</th>\n",
       "      <th>CO2</th>\n",
       "      <th>CO</th>\n",
       "      <th>NO</th>\n",
       "      <th>...</th>\n",
       "      <th>period</th>\n",
       "      <th>season</th>\n",
       "      <th>type</th>\n",
       "      <th>date</th>\n",
       "      <th>time</th>\n",
       "      <th>year</th>\n",
       "      <th>day</th>\n",
       "      <th>tot_hour_numeric</th>\n",
       "      <th>tot_min_numeric</th>\n",
       "      <th>tot_min_rounded</th>\n",
       "    </tr>\n",
       "  </thead>\n",
       "  <tbody>\n",
       "    <tr>\n",
       "      <th>0</th>\n",
       "      <td>16091</td>\n",
       "      <td>2017-02-17 12:31:29</td>\n",
       "      <td>173565</td>\n",
       "      <td>-79.977161</td>\n",
       "      <td>40.430140</td>\n",
       "      <td>225.968182</td>\n",
       "      <td>12</td>\n",
       "      <td>517.372273</td>\n",
       "      <td>0.422173</td>\n",
       "      <td>17.615000</td>\n",
       "      <td>...</td>\n",
       "      <td>2</td>\n",
       "      <td>3</td>\n",
       "      <td>4</td>\n",
       "      <td>2017-02-17</td>\n",
       "      <td>12:31:29</td>\n",
       "      <td>2017</td>\n",
       "      <td>17</td>\n",
       "      <td>4634.608056</td>\n",
       "      <td>278076.483333</td>\n",
       "      <td>278076.0</td>\n",
       "    </tr>\n",
       "    <tr>\n",
       "      <th>1</th>\n",
       "      <td>10634</td>\n",
       "      <td>2017-02-02 09:50:38</td>\n",
       "      <td>122180</td>\n",
       "      <td>-79.997926</td>\n",
       "      <td>40.441055</td>\n",
       "      <td>274.931818</td>\n",
       "      <td>9</td>\n",
       "      <td>499.572350</td>\n",
       "      <td>0.137255</td>\n",
       "      <td>8.555914</td>\n",
       "      <td>...</td>\n",
       "      <td>1</td>\n",
       "      <td>3</td>\n",
       "      <td>4</td>\n",
       "      <td>2017-02-02</td>\n",
       "      <td>09:50:38</td>\n",
       "      <td>2017</td>\n",
       "      <td>2</td>\n",
       "      <td>4271.927222</td>\n",
       "      <td>256315.633333</td>\n",
       "      <td>256316.0</td>\n",
       "    </tr>\n",
       "    <tr>\n",
       "      <th>2</th>\n",
       "      <td>2485</td>\n",
       "      <td>2016-09-20 20:57:59</td>\n",
       "      <td>35619</td>\n",
       "      <td>-79.907425</td>\n",
       "      <td>40.490618</td>\n",
       "      <td>NaN</td>\n",
       "      <td>20</td>\n",
       "      <td>469.582763</td>\n",
       "      <td>0.552017</td>\n",
       "      <td>1.452951</td>\n",
       "      <td>...</td>\n",
       "      <td>3</td>\n",
       "      <td>1</td>\n",
       "      <td>3</td>\n",
       "      <td>2016-09-20</td>\n",
       "      <td>20:57:59</td>\n",
       "      <td>2016</td>\n",
       "      <td>20</td>\n",
       "      <td>1043.049722</td>\n",
       "      <td>62582.983333</td>\n",
       "      <td>62583.0</td>\n",
       "    </tr>\n",
       "    <tr>\n",
       "      <th>3</th>\n",
       "      <td>14692</td>\n",
       "      <td>2017-02-15 06:21:22</td>\n",
       "      <td>165359</td>\n",
       "      <td>-80.005746</td>\n",
       "      <td>40.438416</td>\n",
       "      <td>236.300000</td>\n",
       "      <td>6</td>\n",
       "      <td>520.905352</td>\n",
       "      <td>0.232678</td>\n",
       "      <td>3.899478</td>\n",
       "      <td>...</td>\n",
       "      <td>1</td>\n",
       "      <td>3</td>\n",
       "      <td>4</td>\n",
       "      <td>2017-02-15</td>\n",
       "      <td>06:21:22</td>\n",
       "      <td>2017</td>\n",
       "      <td>15</td>\n",
       "      <td>4580.439444</td>\n",
       "      <td>274826.366667</td>\n",
       "      <td>274826.0</td>\n",
       "    </tr>\n",
       "    <tr>\n",
       "      <th>4</th>\n",
       "      <td>8847</td>\n",
       "      <td>2017-01-31 12:04:59</td>\n",
       "      <td>115153</td>\n",
       "      <td>-79.956671</td>\n",
       "      <td>40.459469</td>\n",
       "      <td>295.581818</td>\n",
       "      <td>12</td>\n",
       "      <td>477.227354</td>\n",
       "      <td>0.121132</td>\n",
       "      <td>30.380059</td>\n",
       "      <td>...</td>\n",
       "      <td>2</td>\n",
       "      <td>3</td>\n",
       "      <td>3</td>\n",
       "      <td>2017-01-31</td>\n",
       "      <td>12:04:59</td>\n",
       "      <td>2017</td>\n",
       "      <td>31</td>\n",
       "      <td>4226.166389</td>\n",
       "      <td>253569.983333</td>\n",
       "      <td>253570.0</td>\n",
       "    </tr>\n",
       "    <tr>\n",
       "      <th>5</th>\n",
       "      <td>4193</td>\n",
       "      <td>2016-11-18 15:24:01</td>\n",
       "      <td>60</td>\n",
       "      <td>-80.079202</td>\n",
       "      <td>40.408026</td>\n",
       "      <td>255.568182</td>\n",
       "      <td>15</td>\n",
       "      <td>455.181827</td>\n",
       "      <td>0.441932</td>\n",
       "      <td>7.983373</td>\n",
       "      <td>...</td>\n",
       "      <td>2</td>\n",
       "      <td>2</td>\n",
       "      <td>3</td>\n",
       "      <td>2016-11-18</td>\n",
       "      <td>15:24:01</td>\n",
       "      <td>2016</td>\n",
       "      <td>18</td>\n",
       "      <td>2453.483611</td>\n",
       "      <td>147209.016667</td>\n",
       "      <td>147209.0</td>\n",
       "    </tr>\n",
       "  </tbody>\n",
       "</table>\n",
       "<p>6 rows × 54 columns</p>\n",
       "</div>"
      ],
      "text/plain": [
       "   OBJECTID             datetime  run_index  Longitude   Latitude   Elevation  \\\n",
       "0     16091  2017-02-17 12:31:29     173565 -79.977161  40.430140  225.968182   \n",
       "1     10634  2017-02-02 09:50:38     122180 -79.997926  40.441055  274.931818   \n",
       "2      2485  2016-09-20 20:57:59      35619 -79.907425  40.490618         NaN   \n",
       "3     14692  2017-02-15 06:21:22     165359 -80.005746  40.438416  236.300000   \n",
       "4      8847  2017-01-31 12:04:59     115153 -79.956671  40.459469  295.581818   \n",
       "5      4193  2016-11-18 15:24:01         60 -80.079202  40.408026  255.568182   \n",
       "\n",
       "   hour         CO2        CO         NO  ...  period  season  type  \\\n",
       "0    12  517.372273  0.422173  17.615000  ...       2       3     4   \n",
       "1     9  499.572350  0.137255   8.555914  ...       1       3     4   \n",
       "2    20  469.582763  0.552017   1.452951  ...       3       1     3   \n",
       "3     6  520.905352  0.232678   3.899478  ...       1       3     4   \n",
       "4    12  477.227354  0.121132  30.380059  ...       2       3     3   \n",
       "5    15  455.181827  0.441932   7.983373  ...       2       2     3   \n",
       "\n",
       "         date      time  year  day  tot_hour_numeric  tot_min_numeric  \\\n",
       "0  2017-02-17  12:31:29  2017   17       4634.608056    278076.483333   \n",
       "1  2017-02-02  09:50:38  2017    2       4271.927222    256315.633333   \n",
       "2  2016-09-20  20:57:59  2016   20       1043.049722     62582.983333   \n",
       "3  2017-02-15  06:21:22  2017   15       4580.439444    274826.366667   \n",
       "4  2017-01-31  12:04:59  2017   31       4226.166389    253569.983333   \n",
       "5  2016-11-18  15:24:01  2016   18       2453.483611    147209.016667   \n",
       "\n",
       "   tot_min_rounded  \n",
       "0         278076.0  \n",
       "1         256316.0  \n",
       "2          62583.0  \n",
       "3         274826.0  \n",
       "4         253570.0  \n",
       "5         147209.0  \n",
       "\n",
       "[6 rows x 54 columns]"
      ]
     },
     "execution_count": 4,
     "metadata": {},
     "output_type": "execute_result"
    }
   ],
   "source": [
    "df_NO2.head(6)"
   ]
  },
  {
   "cell_type": "markdown",
   "id": "ae520a7a",
   "metadata": {},
   "source": [
    "Average observations that fall into the same minute category so that we have one row per observed minute (for the short-time Fourier transform)"
   ]
  },
  {
   "cell_type": "code",
   "execution_count": 5,
   "id": "7c1ce975",
   "metadata": {},
   "outputs": [
    {
     "data": {
      "text/html": [
       "<div>\n",
       "<style scoped>\n",
       "    .dataframe tbody tr th:only-of-type {\n",
       "        vertical-align: middle;\n",
       "    }\n",
       "\n",
       "    .dataframe tbody tr th {\n",
       "        vertical-align: top;\n",
       "    }\n",
       "\n",
       "    .dataframe thead th {\n",
       "        text-align: right;\n",
       "    }\n",
       "</style>\n",
       "<table border=\"1\" class=\"dataframe\">\n",
       "  <thead>\n",
       "    <tr style=\"text-align: right;\">\n",
       "      <th></th>\n",
       "      <th>tot_min_rounded</th>\n",
       "      <th>datetime</th>\n",
       "      <th>NO2</th>\n",
       "    </tr>\n",
       "  </thead>\n",
       "  <tbody>\n",
       "    <tr>\n",
       "      <th>0</th>\n",
       "      <td>1.0</td>\n",
       "      <td>2016-08-08 09:56:02</td>\n",
       "      <td>13.752167</td>\n",
       "    </tr>\n",
       "    <tr>\n",
       "      <th>1</th>\n",
       "      <td>2.0</td>\n",
       "      <td>2016-08-08 09:56:59</td>\n",
       "      <td>14.866519</td>\n",
       "    </tr>\n",
       "    <tr>\n",
       "      <th>2</th>\n",
       "      <td>4.0</td>\n",
       "      <td>2016-08-08 09:59:00</td>\n",
       "      <td>11.266365</td>\n",
       "    </tr>\n",
       "    <tr>\n",
       "      <th>3</th>\n",
       "      <td>5.0</td>\n",
       "      <td>2016-08-08 10:00:01</td>\n",
       "      <td>11.102795</td>\n",
       "    </tr>\n",
       "    <tr>\n",
       "      <th>4</th>\n",
       "      <td>6.0</td>\n",
       "      <td>2016-08-08 10:01:00</td>\n",
       "      <td>10.909147</td>\n",
       "    </tr>\n",
       "  </tbody>\n",
       "</table>\n",
       "</div>"
      ],
      "text/plain": [
       "   tot_min_rounded             datetime        NO2\n",
       "0              1.0  2016-08-08 09:56:02  13.752167\n",
       "1              2.0  2016-08-08 09:56:59  14.866519\n",
       "2              4.0  2016-08-08 09:59:00  11.266365\n",
       "3              5.0  2016-08-08 10:00:01  11.102795\n",
       "4              6.0  2016-08-08 10:01:00  10.909147"
      ]
     },
     "execution_count": 5,
     "metadata": {},
     "output_type": "execute_result"
    }
   ],
   "source": [
    "min_avg_NO2 = df_NO2.groupby('tot_min_rounded').agg({'datetime': 'first', 'NO2': 'mean'}).reset_index()\n",
    "min_avg_NO2.head()\n",
    "#min_avg_NO2['tot_min_rounded'].max()"
   ]
  },
  {
   "cell_type": "markdown",
   "id": "77b23a21",
   "metadata": {},
   "source": [
    "Examine the spacing of the sampling"
   ]
  },
  {
   "cell_type": "code",
   "execution_count": 6,
   "id": "e883732e",
   "metadata": {},
   "outputs": [
    {
     "name": "stdout",
     "output_type": "stream",
     "text": [
      "33         3.0\n",
      "45      1002.0\n",
      "55        55.0\n",
      "59         6.0\n",
      "60         2.0\n",
      "         ...  \n",
      "4493      50.0\n",
      "4519      23.0\n",
      "4613     492.0\n",
      "4696    2204.0\n",
      "4940     678.0\n",
      "Name: tot_min_rounded, Length: 207, dtype: float64\n"
     ]
    }
   ],
   "source": [
    "# Sort the DataFrame based on the column with integers\n",
    "sorted_df = min_avg_NO2.sort_values(by='tot_min_rounded')\n",
    "\n",
    "# Get the differences between consecutive values\n",
    "diff = sorted_df['tot_min_rounded'].diff()\n",
    "\n",
    "# Find where the differences are greater than 2 indicating a larger gap\n",
    "gaps = diff[diff > 2]\n",
    "\n",
    "# Compute the number of missing integers in each gap\n",
    "missing_counts = gaps - 1\n",
    "\n",
    "# Displaying the number of missing integers in each gap\n",
    "print(missing_counts)"
   ]
  },
  {
   "cell_type": "code",
   "execution_count": null,
   "id": "fcf6ed83",
   "metadata": {},
   "outputs": [],
   "source": []
  },
  {
   "cell_type": "markdown",
   "id": "7ba4b8ee",
   "metadata": {},
   "source": [
    "# Info on Non-uniform discrete Fourier Transform"
   ]
  },
  {
   "cell_type": "markdown",
   "id": "d1d78e97",
   "metadata": {},
   "source": [
    "The nonuniform discrete Fourier transform of type II (NUDFT-II) uses uniform (i.e. integer) frequencies but nonuniform sample points p_{n}. This corresponds to evaluating a Fourier series at nonequispaced points. It is also known as adjoint NDFT. In the FINUFFT package implementation this is called the \"type 1\" NUFFT."
   ]
  },
  {
   "cell_type": "markdown",
   "id": "524b47d9",
   "metadata": {},
   "source": [
    "## Example code from finufft documentation"
   ]
  },
  {
   "cell_type": "code",
   "execution_count": 7,
   "id": "239dd3bf",
   "metadata": {},
   "outputs": [],
   "source": [
    "# number of nonuniform points\n",
    "M = 100\n",
    "\n",
    "# the nonuniform points\n",
    "x = 2 * np.pi * np.random.uniform(size=M)\n",
    "\n",
    "# their complex strengths\n",
    "c = (np.random.standard_normal(size=M)\n",
    "    + 1J * np.random.standard_normal(size=M))"
   ]
  },
  {
   "cell_type": "markdown",
   "id": "e68f9edc",
   "metadata": {},
   "source": [
    "## Code for one day of data"
   ]
  },
  {
   "cell_type": "code",
   "execution_count": 8,
   "id": "2efac117",
   "metadata": {},
   "outputs": [
    {
     "data": {
      "text/html": [
       "<div>\n",
       "<style scoped>\n",
       "    .dataframe tbody tr th:only-of-type {\n",
       "        vertical-align: middle;\n",
       "    }\n",
       "\n",
       "    .dataframe tbody tr th {\n",
       "        vertical-align: top;\n",
       "    }\n",
       "\n",
       "    .dataframe thead th {\n",
       "        text-align: right;\n",
       "    }\n",
       "</style>\n",
       "<table border=\"1\" class=\"dataframe\">\n",
       "  <thead>\n",
       "    <tr style=\"text-align: right;\">\n",
       "      <th></th>\n",
       "      <th>tot_min_rounded</th>\n",
       "      <th>datetime</th>\n",
       "      <th>NO2</th>\n",
       "      <th>day_of_year</th>\n",
       "    </tr>\n",
       "  </thead>\n",
       "  <tbody>\n",
       "    <tr>\n",
       "      <th>3333</th>\n",
       "      <td>256063.0</td>\n",
       "      <td>2017-02-02 05:38:05</td>\n",
       "      <td>7.844182</td>\n",
       "      <td>33</td>\n",
       "    </tr>\n",
       "    <tr>\n",
       "      <th>3334</th>\n",
       "      <td>256064.0</td>\n",
       "      <td>2017-02-02 05:39:09</td>\n",
       "      <td>7.791027</td>\n",
       "      <td>33</td>\n",
       "    </tr>\n",
       "    <tr>\n",
       "      <th>3335</th>\n",
       "      <td>256065.0</td>\n",
       "      <td>2017-02-02 05:40:13</td>\n",
       "      <td>7.606351</td>\n",
       "      <td>33</td>\n",
       "    </tr>\n",
       "    <tr>\n",
       "      <th>3336</th>\n",
       "      <td>256066.0</td>\n",
       "      <td>2017-02-02 05:40:34</td>\n",
       "      <td>7.524876</td>\n",
       "      <td>33</td>\n",
       "    </tr>\n",
       "    <tr>\n",
       "      <th>3337</th>\n",
       "      <td>256067.0</td>\n",
       "      <td>2017-02-02 05:41:38</td>\n",
       "      <td>7.555510</td>\n",
       "      <td>33</td>\n",
       "    </tr>\n",
       "  </tbody>\n",
       "</table>\n",
       "</div>"
      ],
      "text/plain": [
       "      tot_min_rounded            datetime       NO2  day_of_year\n",
       "3333         256063.0 2017-02-02 05:38:05  7.844182           33\n",
       "3334         256064.0 2017-02-02 05:39:09  7.791027           33\n",
       "3335         256065.0 2017-02-02 05:40:13  7.606351           33\n",
       "3336         256066.0 2017-02-02 05:40:34  7.524876           33\n",
       "3337         256067.0 2017-02-02 05:41:38  7.555510           33"
      ]
     },
     "execution_count": 8,
     "metadata": {},
     "output_type": "execute_result"
    }
   ],
   "source": [
    "# Convert column named 'datetime' to actual datetime\n",
    "min_avg_NO2['datetime'] = pd.to_datetime(min_avg_NO2['datetime'])\n",
    "\n",
    "# add day of year \n",
    "min_avg_NO2['day_of_year'] = min_avg_NO2['datetime'].dt.dayofyear\n",
    "\n",
    "#see which days are included\n",
    "min_avg_NO2.groupby('day_of_year').count()\n",
    "\n",
    "day33 = min_avg_NO2[min_avg_NO2['day_of_year'] == 33]\n",
    "day33.head()"
   ]
  },
  {
   "cell_type": "code",
   "execution_count": null,
   "id": "0ec567d1",
   "metadata": {},
   "outputs": [],
   "source": []
  },
  {
   "cell_type": "code",
   "execution_count": 9,
   "id": "a52d50e1",
   "metadata": {},
   "outputs": [
    {
     "name": "stdout",
     "output_type": "stream",
     "text": [
      "3333    0.000000\n",
      "3334    0.019821\n",
      "3335    0.039642\n",
      "3336    0.059462\n",
      "3337    0.079283\n",
      "          ...   \n",
      "3643    6.203902\n",
      "3644    6.223723\n",
      "3645    6.243544\n",
      "3646    6.263365\n",
      "3647    6.283185\n",
      "Name: tot_min_rounded, Length: 315, dtype: float64\n"
     ]
    }
   ],
   "source": [
    "#see example code at https://finufft.readthedocs.io/en/latest/python.html\n",
    "c = day33['NO2'] #set the signal \"strengths\" to the observed outcome\n",
    "c_complex = np.array([complex(num, 0) for num in c])\n",
    "\n",
    "\n",
    "\n",
    "#need to normalize x to fall within [-3 pi , 3pi]\n",
    "x = day33['tot_min_rounded'] #location of observations\n",
    "x_norm = 2 * np.pi * (x - np.min(x))/(np.max(x) - np.min(x))\n",
    "\n",
    "N = len(day33['NO2']//2) #number of desired Fourier modes\n",
    "\n",
    "print(x_norm)"
   ]
  },
  {
   "cell_type": "code",
   "execution_count": 10,
   "id": "f1840d9e",
   "metadata": {},
   "outputs": [
    {
     "data": {
      "text/plain": [
       "<matplotlib.collections.PathCollection at 0x143ee7650>"
      ]
     },
     "execution_count": 10,
     "metadata": {},
     "output_type": "execute_result"
    },
    {
     "data": {
      "image/png": "[encoded data removed]",
      "text/plain": [
       "<Figure size 640x480 with 1 Axes>"
      ]
     },
     "metadata": {},
     "output_type": "display_data"
    }
   ],
   "source": [
    "plt.scatter(x = x_norm, y = c)"
   ]
  },
  {
   "cell_type": "code",
   "execution_count": 11,
   "id": "f8b9da49",
   "metadata": {},
   "outputs": [],
   "source": [
    "x_norm = np.ascontiguousarray(x_norm)\n",
    "c_complex = np.ascontiguousarray(c_complex)\n",
    "\n",
    "# calculate the type-1 NUFFT\n",
    "f = finufft.nufft1d1(x_norm, c_complex, N)\n",
    "\n",
    "\n"
   ]
  },
  {
   "cell_type": "markdown",
   "id": "7aba0a12",
   "metadata": {},
   "source": [
    "Find coefficients"
   ]
  },
  {
   "cell_type": "code",
   "execution_count": 12,
   "id": "9196cb7a",
   "metadata": {},
   "outputs": [
    {
     "name": "stdout",
     "output_type": "stream",
     "text": [
      "315 157 157\n",
      "[3.43368441e+05 1.78547682e+05 1.12327630e+04 6.69071452e+04\n",
      " 3.34110695e+04 4.50243238e+03 4.34290624e+04 1.84217705e+04\n",
      " 6.41709805e+04 7.24696616e+03 1.02575084e+03 2.99903586e+04\n",
      " 4.74285147e+04 1.55779786e+05 1.84767089e+04 8.70204088e+03\n",
      " 1.68803393e+02 3.82140569e+04 7.54872854e+03 6.08383247e+04\n",
      " 4.27306235e+04 6.67456600e+04 5.76085182e+04 3.70990338e+03\n",
      " 1.46611855e+03 1.26675317e+04 2.84101045e+04 3.64006560e+04\n",
      " 3.12114642e+04 4.14935334e+04 7.96466774e+03 3.97679279e+03\n",
      " 2.88661099e+04 3.86235358e+04 1.70783217e+04 3.81708878e+03\n",
      " 1.76333921e+04 1.08229719e+04 1.49406880e+04 2.67305433e+04\n",
      " 1.95040797e+04 6.30687640e+03 1.45846124e+04 2.11638610e+04\n",
      " 2.09108031e+04 3.52882005e+03 1.99537327e+03 1.97107716e+04\n",
      " 1.07664507e+04 3.99354463e+03 1.22565753e+04 3.98401468e+04\n",
      " 2.92789547e+03 3.27384894e+03 1.26075784e+03 3.03246029e+04\n",
      " 1.31681780e+04 1.57077643e+04 7.69960638e+03 3.95167653e+03\n",
      " 2.08310535e+04 1.95629556e+03 1.95717829e+04 2.00644398e+04\n",
      " 1.21973170e+04 2.92967253e+03 2.88143646e+03 2.39103827e+04\n",
      " 8.83687656e+03 2.03448586e+03 7.31422804e+03 3.75696939e+04\n",
      " 3.32627291e+04 5.62103816e+03 9.95215025e+03 1.58880415e+03\n",
      " 4.66340562e+04 3.91377257e+03 1.47535248e+04 4.27579419e+03\n",
      " 2.57772884e+04 3.91571346e+04 1.34628721e+03 5.51440619e+03\n",
      " 1.76842067e+04 2.25128790e+04 5.99211585e+03 1.76307012e+03\n",
      " 2.95786985e+03 2.01407907e+04 2.25320790e+04 9.27941442e+02\n",
      " 5.71199049e+03 2.23386623e+03 1.69001655e+04 3.35361844e+02\n",
      " 7.42668560e+03 1.10533011e+04 3.00675105e+04 2.14661774e+04\n",
      " 5.56602867e+03 1.10983278e+04 1.23522749e+04 2.32283758e+04\n",
      " 8.14792746e+03 7.24773279e+03 2.64716408e+04 1.12136559e+04\n",
      " 1.65277877e+04 9.38868452e+03 3.39706187e+04 2.57744937e+04\n",
      " 4.19441873e+03 7.58614651e+03 3.52724788e+03 8.59986274e+03\n",
      " 2.95934736e+03 5.43246916e+03 4.48283901e+03 1.99381770e+04\n",
      " 1.73629529e+03 1.46418735e+03 1.06411296e+03 3.37591989e+04\n",
      " 2.36455363e+04 2.01139701e+04 1.58666171e+04 1.30314756e+04\n",
      " 1.26093923e+04 2.99871300e+03 2.44682361e+04 2.85376275e+04\n",
      " 2.42437909e+04 2.19064769e+04 3.90062243e+03 2.98330795e+04\n",
      " 3.72251091e+04 3.12508004e+04 5.37625999e+03 2.53881038e+04\n",
      " 4.12575674e+03 3.42237359e+03 1.24060063e+03 1.45331242e+04\n",
      " 3.93795975e+04 3.00705292e+04 1.60624999e+04 6.84574019e+03\n",
      " 3.12327344e+03 1.68466328e+04 1.11292725e+04 4.33110328e+03\n",
      " 3.82817725e+03 2.52110255e+04 1.19181195e+04 7.86451104e+03\n",
      " 1.36865207e+04]\n"
     ]
    }
   ],
   "source": [
    "#data is indexed by -N1/2 <= k1 <= (N1-1)/2 \n",
    "#a_n = 2*f.real\n",
    "#b_n = -2*f.imag\n",
    "\n",
    "\n",
    "k_neg = np.flip(f[0: len(f)//2])\n",
    "k_pos = f[len(f)//2 + 1:]\n",
    "print(len(f),len(k_neg), len(k_pos))\n",
    "\n",
    "C_n = np.abs(k_neg)**2 + np.abs(k_pos)**2\n",
    "print(C_n)\n",
    "\n"
   ]
  },
  {
   "cell_type": "markdown",
   "id": "82b32f95",
   "metadata": {},
   "source": [
    "Plot An and Bn"
   ]
  },
  {
   "cell_type": "code",
   "execution_count": 119,
   "id": "1f7d1224",
   "metadata": {},
   "outputs": [
    {
     "data": {
      "text/plain": [
       "315"
      ]
     },
     "execution_count": 119,
     "metadata": {},
     "output_type": "execute_result"
    }
   ],
   "source": [
    "len(f)//2\n",
    "157 + 1 + 157"
   ]
  },
  {
   "cell_type": "code",
   "execution_count": 13,
   "id": "a47d96fd",
   "metadata": {},
   "outputs": [
    {
     "data": {
      "image/png": "[encoded data removed]",
      "text/plain": [
       "<Figure size 800x500 with 1 Axes>"
      ]
     },
     "metadata": {},
     "output_type": "display_data"
    }
   ],
   "source": [
    "x_val = range(0, len(C_n))\n",
    "\n",
    "fontsize = 15\n",
    "\n",
    "plt.figure(figsize=(8,5), dpi=100)\n",
    "colors = ['black','grey']\n",
    "#plt.plot(x_val, a_n, 'x', label=r'$A_n$', color=colors[0], ms=6, alpha=0.8)\n",
    "#plt.plot(x_val, b_n, 'D', label=r'$B_n$', color=colors[1], ms=6, alpha=0.8)\n",
    "plt.plot(x_val, C_n, label=r'$C_n$', color = \"blue\", ms = 6, alpha = 0.7)\n",
    "\n",
    "plt.legend(fontsize=fontsize)\n",
    "plt.ylabel(r'Amplitude of $A_n$ or $B_n$', fontsize=fontsize)\n",
    "plt.xlabel('Frequency mode', fontsize=fontsize)\n",
    "plt.tick_params(axis='both', labelsize=fontsize * 0.7)\n",
    "plt.title('Fourier Series Day 33', fontsize=fontsize)\n",
    "plt.show()"
   ]
  },
  {
   "cell_type": "code",
   "execution_count": 14,
   "id": "54907b5e",
   "metadata": {},
   "outputs": [
    {
     "data": {
      "text/plain": [
       "array([  0,   1,  13,   3,  21,   8,  19,  22,  12,  76,   6,  20,  29,\n",
       "        51, 144,  81,  33,  17,  71, 136])"
      ]
     },
     "execution_count": 14,
     "metadata": {},
     "output_type": "execute_result"
    }
   ],
   "source": [
    "np.argsort(-C_n)[0:20,]"
   ]
  },
  {
   "cell_type": "code",
   "execution_count": 19,
   "id": "1a543876",
   "metadata": {},
   "outputs": [
    {
     "data": {
      "text/plain": [
       "317.0"
      ]
     },
     "execution_count": 19,
     "metadata": {},
     "output_type": "execute_result"
    }
   ],
   "source": [
    "#total number of minutes of sampling for day 33\n",
    "mins_in_day33 = max(day33['tot_min_rounded']) - min(day33['tot_min_rounded'])\n",
    "mins_in_day33"
   ]
  },
  {
   "cell_type": "code",
   "execution_count": 21,
   "id": "b12697e4",
   "metadata": {},
   "outputs": [
    {
     "data": {
      "text/plain": [
       "105.66666666666667"
      ]
     },
     "execution_count": 21,
     "metadata": {},
     "output_type": "execute_result"
    }
   ],
   "source": [
    "# frequencies with highest vals of coeffs in minutes\n",
    "mins_in_day33/13\n",
    "mins_in_day33/3"
   ]
  },
  {
   "cell_type": "markdown",
   "id": "8b4b1513",
   "metadata": {},
   "source": [
    "From this we can see that we have a daily trend, a 1/13th day trend, a 1/3 day trend and a 1/21 day trend. Where \"day\" is the entire study period for which I have data on day 33, ie 317 minutes. "
   ]
  },
  {
   "cell_type": "markdown",
   "id": "d7dc591b",
   "metadata": {},
   "source": [
    "### Reconstruct the signal from the frequencies"
   ]
  },
  {
   "cell_type": "code",
   "execution_count": null,
   "id": "18015803",
   "metadata": {},
   "outputs": [],
   "source": []
  },
  {
   "cell_type": "code",
   "execution_count": null,
   "id": "681f4aff",
   "metadata": {},
   "outputs": [],
   "source": []
  },
  {
   "cell_type": "code",
   "execution_count": null,
   "id": "c661f08d",
   "metadata": {},
   "outputs": [],
   "source": []
  },
  {
   "cell_type": "markdown",
   "id": "d033e227",
   "metadata": {},
   "source": [
    "## Code for NO2 data"
   ]
  },
  {
   "cell_type": "code",
   "execution_count": 15,
   "id": "7be0bdd8",
   "metadata": {},
   "outputs": [
    {
     "name": "stdout",
     "output_type": "stream",
     "text": [
      "0       0.000000\n",
      "1       0.000011\n",
      "2       0.000034\n",
      "3       0.000045\n",
      "4       0.000056\n",
      "          ...   \n",
      "5144    3.141547\n",
      "5145    3.141559\n",
      "5146    3.141570\n",
      "5147    3.141581\n",
      "5148    3.141593\n",
      "Name: tot_min_rounded, Length: 5149, dtype: float64\n"
     ]
    }
   ],
   "source": [
    "c = min_avg_NO2['NO2'] #set the signal \"strengths\" to the observed outcome\n",
    "c_complex = np.array([complex(num, 0) for num in c])\n",
    "\n",
    "\n",
    "\n",
    "#need to normalize x to fall within [-3 pi , 3pi]\n",
    "x = min_avg_NO2 ['tot_min_rounded'] #location of observations\n",
    "x_norm = 1 * np.pi * (x - np.min(x))/(np.max(x) - np.min(x))\n",
    "\n",
    "N = len(min_avg_NO2 ['NO2']//2) #number of desired Fourier modes\n",
    "print(x_norm)"
   ]
  },
  {
   "cell_type": "code",
   "execution_count": 16,
   "id": "3f13582b",
   "metadata": {},
   "outputs": [],
   "source": [
    "x_norm = np.ascontiguousarray(x_norm)\n",
    "c_complex = np.ascontiguousarray(c_complex)\n",
    "\n",
    "# calculate the type-1 NUFFT\n",
    "f = finufft.nufft1d1(x_norm, c_complex, N)"
   ]
  },
  {
   "cell_type": "code",
   "execution_count": 17,
   "id": "3c5e1c6b",
   "metadata": {},
   "outputs": [
    {
     "name": "stdout",
     "output_type": "stream",
     "text": [
      "5149 2574 2574\n",
      "[2.93564682e+09 2.74521815e+09 2.98817169e+09 ... 4.32421806e+06\n",
      " 1.17794019e+07 4.55511091e+06]\n"
     ]
    }
   ],
   "source": [
    "# coefficients\n",
    "\n",
    "k_neg = np.flip(f[0: len(f)//2])\n",
    "k_pos = f[len(f)//2 + 1:]\n",
    "print(len(f),len(k_neg), len(k_pos))\n",
    "\n",
    "C_n = np.abs(k_neg)**2 + np.abs(k_pos)**2\n",
    "print(C_n)\n"
   ]
  },
  {
   "cell_type": "markdown",
   "id": "7b7ca84e",
   "metadata": {},
   "source": [
    "Plot fourier coefficient"
   ]
  },
  {
   "cell_type": "code",
   "execution_count": 18,
   "id": "5ceb40ea",
   "metadata": {},
   "outputs": [
    {
     "data": {
      "image/png": "[encoded data removed]",
      "text/plain": [
       "<Figure size 800x500 with 1 Axes>"
      ]
     },
     "metadata": {},
     "output_type": "display_data"
    }
   ],
   "source": [
    "x_val = range(0, len(C_n))\n",
    "\n",
    "fontsize = 15\n",
    "\n",
    "plt.figure(figsize=(8,5), dpi=100)\n",
    "colors = ['black','grey']\n",
    "#plt.plot(x_val, a_n, 'x', label=r'$A_n$', color=colors[0], ms=6, alpha=0.8)\n",
    "#plt.plot(x_val, b_n, 'D', label=r'$B_n$', color=colors[1], ms=6, alpha=0.8)\n",
    "plt.plot(x_val, C_n, label=r'$C_n$', color = \"blue\", ms = 6, alpha = 0.7)\n",
    "\n",
    "plt.legend(fontsize=fontsize)\n",
    "plt.ylabel(r'Amplitude of C_n', fontsize=fontsize)\n",
    "plt.xlabel('Frequency mode, f_k', fontsize=fontsize)\n",
    "plt.tick_params(axis='both', labelsize=fontsize * 0.7)\n",
    "plt.title('Entire study period', fontsize=fontsize)\n",
    "plt.show()"
   ]
  },
  {
   "cell_type": "code",
   "execution_count": 19,
   "id": "14d7825c",
   "metadata": {},
   "outputs": [
    {
     "data": {
      "text/plain": [
       "array([  4,   2,   0,   1,   5,   3,  54, 209, 712,  49,  51, 380,   7,\n",
       "       657, 385, 204, 714, 715, 452, 386, 662,  17, 381, 717,  52,  48,\n",
       "       709, 447, 264, 539, 203, 556,  53,  20, 453, 590, 663,  34,  21,\n",
       "       710,   8,  55, 711,  66,  57, 206, 154, 270, 559, 707])"
      ]
     },
     "execution_count": 19,
     "metadata": {},
     "output_type": "execute_result"
    }
   ],
   "source": [
    "np.argsort(-C_n)[0:50]"
   ]
  },
  {
   "cell_type": "code",
   "execution_count": 22,
   "id": "9b0680ec",
   "metadata": {},
   "outputs": [
    {
     "data": {
      "text/plain": [
       "6.439259259259259"
      ]
     },
     "execution_count": 22,
     "metadata": {},
     "output_type": "execute_result"
    }
   ],
   "source": [
    "total_mins/712 * 1/60 \n",
    "total_mins/60 * 1/24 * 1/30"
   ]
  },
  {
   "cell_type": "code",
   "execution_count": null,
   "id": "c4017b53",
   "metadata": {},
   "outputs": [],
   "source": [
    "#####FIX: WORKING HERE\n",
    "# need to reverse the normalization to find the correct periodicity I think"
   ]
  },
  {
   "cell_type": "markdown",
   "id": "487cdb9c",
   "metadata": {},
   "source": [
    "Based on this, it looks like there is periodicity at 1/2 the sample period, ~1/104 or 1/101 the study period, ~1/24 or 1/25 the study period, 1/3 the study period"
   ]
  },
  {
   "cell_type": "code",
   "execution_count": 21,
   "id": "118997b2",
   "metadata": {},
   "outputs": [
    {
     "data": {
      "text/plain": [
       "278176.0"
      ]
     },
     "execution_count": 21,
     "metadata": {},
     "output_type": "execute_result"
    }
   ],
   "source": [
    "total_mins = max(min_avg_NO2['tot_min_rounded']) - min(min_avg_NO2['tot_min_rounded'])\n",
    "total_mins"
   ]
  },
  {
   "cell_type": "code",
   "execution_count": 38,
   "id": "e9af6591",
   "metadata": {},
   "outputs": [
    {
     "name": "stdout",
     "output_type": "stream",
     "text": [
      "So the periodicity corresponds to: 1/2 -  96.58888888888889 days \n",
      " 1/104 -  44.57948717948718 ,  45.90363036303631 hours \n",
      " 1/24 or 1/25 -  8.049074074074074 , 7.727111111111111 days \n",
      " 1/3 -  64.39259259259259 days \n",
      " 1/357 -  12.986741363211951 hours\n"
     ]
    }
   ],
   "source": [
    "print(\"So the periodicity corresponds to: 1/2 - \", total_mins/2 *1/60 * 1/24, \"days\", \"\\n\", \"1/104 - \", total_mins/104 *1/60, \", \", total_mins/101 * 1/60, \"hours\",\n",
    "     \"\\n\", \"1/24 or 1/25 - \", total_mins/24 * 1/60 * 1/24, \",\", total_mins/25 * 1/60 * 1/24, \"days\",\n",
    "     \"\\n\", \"1/3 - \", total_mins/3 * 1/60 * 1/24, \"days\", \"\\n\",\n",
    "     \"1/357 - \", total_mins/357 * 1/60, \"hours\" )"
   ]
  },
  {
   "cell_type": "code",
   "execution_count": null,
   "id": "7b42bbab",
   "metadata": {},
   "outputs": [],
   "source": []
  }
 ],
 "metadata": {
  "kernelspec": {
   "display_name": "Python 3 (ipykernel)",
   "language": "python",
   "name": "python3"
  },
  "language_info": {
   "codemirror_mode": {
    "name": "ipython",
    "version": 3
   },
   "file_extension": ".py",
   "mimetype": "text/x-python",
   "name": "python",
   "nbconvert_exporter": "python",
   "pygments_lexer": "ipython3",
   "version": "3.11.4"
  }
 },
 "nbformat": 4,
 "nbformat_minor": 5
}
