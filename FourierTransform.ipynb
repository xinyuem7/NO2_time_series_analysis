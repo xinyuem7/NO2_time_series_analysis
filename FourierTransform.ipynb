{
 "cells": [
  {
   "cell_type": "markdown",
   "id": "a589b5b6",
   "metadata": {},
   "source": [
    "Packages"
   ]
  },
  {
   "cell_type": "code",
   "execution_count": 1,
   "id": "4c05057e",
   "metadata": {},
   "outputs": [],
   "source": [
    "import pandas as pd\n",
    "import numpy as np\n",
    "\n",
    "import functools\n",
    "from typing import Any, Tuple\n",
    "\n",
    "import scipy.signal as scipy_signal\n",
    "\n",
    "from matplotlib import colorbar\n",
    "import matplotlib.pyplot as plt\n",
    "import cartopy.crs as ccrs\n",
    "import folium\n",
    "import plotly.express as px"
   ]
  },
  {
   "cell_type": "code",
   "execution_count": null,
   "id": "3ad9260f",
   "metadata": {},
   "outputs": [],
   "source": [
    "#pip install finufft"
   ]
  },
  {
   "cell_type": "code",
   "execution_count": 2,
   "id": "41a531c3",
   "metadata": {},
   "outputs": [],
   "source": [
    "import finufft"
   ]
  },
  {
   "cell_type": "markdown",
   "id": "525fb40e",
   "metadata": {},
   "source": [
    "Data import and cleaning"
   ]
  },
  {
   "cell_type": "code",
   "execution_count": 2,
   "id": "e6fc1664",
   "metadata": {},
   "outputs": [],
   "source": [
    "df_NO2 = pd.read_csv(\"train_val_split/observation_filtered.csv\")"
   ]
  },
  {
   "cell_type": "code",
   "execution_count": 4,
   "id": "ab30145a",
   "metadata": {},
   "outputs": [
    {
     "data": {
      "text/html": [
       "<div>\n",
       "<style scoped>\n",
       "    .dataframe tbody tr th:only-of-type {\n",
       "        vertical-align: middle;\n",
       "    }\n",
       "\n",
       "    .dataframe tbody tr th {\n",
       "        vertical-align: top;\n",
       "    }\n",
       "\n",
       "    .dataframe thead th {\n",
       "        text-align: right;\n",
       "    }\n",
       "</style>\n",
       "<table border=\"1\" class=\"dataframe\">\n",
       "  <thead>\n",
       "    <tr style=\"text-align: right;\">\n",
       "      <th></th>\n",
       "      <th>OBJECTID</th>\n",
       "      <th>datetime</th>\n",
       "      <th>run_index</th>\n",
       "      <th>Longitude</th>\n",
       "      <th>Latitude</th>\n",
       "      <th>Elevation</th>\n",
       "      <th>hour</th>\n",
       "      <th>CO2</th>\n",
       "      <th>CO</th>\n",
       "      <th>NO</th>\n",
       "      <th>...</th>\n",
       "      <th>period</th>\n",
       "      <th>season</th>\n",
       "      <th>type</th>\n",
       "      <th>date</th>\n",
       "      <th>time</th>\n",
       "      <th>year</th>\n",
       "      <th>day</th>\n",
       "      <th>tot_hour_numeric</th>\n",
       "      <th>tot_min_numeric</th>\n",
       "      <th>tot_min_rounded</th>\n",
       "    </tr>\n",
       "  </thead>\n",
       "  <tbody>\n",
       "    <tr>\n",
       "      <th>0</th>\n",
       "      <td>16091</td>\n",
       "      <td>2017-02-17 12:31:29</td>\n",
       "      <td>173565</td>\n",
       "      <td>-79.977161</td>\n",
       "      <td>40.430140</td>\n",
       "      <td>225.968182</td>\n",
       "      <td>12</td>\n",
       "      <td>517.372273</td>\n",
       "      <td>0.422173</td>\n",
       "      <td>17.615000</td>\n",
       "      <td>...</td>\n",
       "      <td>2</td>\n",
       "      <td>3</td>\n",
       "      <td>4</td>\n",
       "      <td>2017-02-17</td>\n",
       "      <td>12:31:29</td>\n",
       "      <td>2017</td>\n",
       "      <td>17</td>\n",
       "      <td>4634.608056</td>\n",
       "      <td>278076.483333</td>\n",
       "      <td>278076.0</td>\n",
       "    </tr>\n",
       "    <tr>\n",
       "      <th>1</th>\n",
       "      <td>10634</td>\n",
       "      <td>2017-02-02 09:50:38</td>\n",
       "      <td>122180</td>\n",
       "      <td>-79.997926</td>\n",
       "      <td>40.441055</td>\n",
       "      <td>274.931818</td>\n",
       "      <td>9</td>\n",
       "      <td>499.572350</td>\n",
       "      <td>0.137255</td>\n",
       "      <td>8.555914</td>\n",
       "      <td>...</td>\n",
       "      <td>1</td>\n",
       "      <td>3</td>\n",
       "      <td>4</td>\n",
       "      <td>2017-02-02</td>\n",
       "      <td>09:50:38</td>\n",
       "      <td>2017</td>\n",
       "      <td>2</td>\n",
       "      <td>4271.927222</td>\n",
       "      <td>256315.633333</td>\n",
       "      <td>256316.0</td>\n",
       "    </tr>\n",
       "    <tr>\n",
       "      <th>2</th>\n",
       "      <td>2485</td>\n",
       "      <td>2016-09-20 20:57:59</td>\n",
       "      <td>35619</td>\n",
       "      <td>-79.907425</td>\n",
       "      <td>40.490618</td>\n",
       "      <td>NaN</td>\n",
       "      <td>20</td>\n",
       "      <td>469.582763</td>\n",
       "      <td>0.552017</td>\n",
       "      <td>1.452951</td>\n",
       "      <td>...</td>\n",
       "      <td>3</td>\n",
       "      <td>1</td>\n",
       "      <td>3</td>\n",
       "      <td>2016-09-20</td>\n",
       "      <td>20:57:59</td>\n",
       "      <td>2016</td>\n",
       "      <td>20</td>\n",
       "      <td>1043.049722</td>\n",
       "      <td>62582.983333</td>\n",
       "      <td>62583.0</td>\n",
       "    </tr>\n",
       "    <tr>\n",
       "      <th>3</th>\n",
       "      <td>14692</td>\n",
       "      <td>2017-02-15 06:21:22</td>\n",
       "      <td>165359</td>\n",
       "      <td>-80.005746</td>\n",
       "      <td>40.438416</td>\n",
       "      <td>236.300000</td>\n",
       "      <td>6</td>\n",
       "      <td>520.905352</td>\n",
       "      <td>0.232678</td>\n",
       "      <td>3.899478</td>\n",
       "      <td>...</td>\n",
       "      <td>1</td>\n",
       "      <td>3</td>\n",
       "      <td>4</td>\n",
       "      <td>2017-02-15</td>\n",
       "      <td>06:21:22</td>\n",
       "      <td>2017</td>\n",
       "      <td>15</td>\n",
       "      <td>4580.439444</td>\n",
       "      <td>274826.366667</td>\n",
       "      <td>274826.0</td>\n",
       "    </tr>\n",
       "    <tr>\n",
       "      <th>4</th>\n",
       "      <td>8847</td>\n",
       "      <td>2017-01-31 12:04:59</td>\n",
       "      <td>115153</td>\n",
       "      <td>-79.956671</td>\n",
       "      <td>40.459469</td>\n",
       "      <td>295.581818</td>\n",
       "      <td>12</td>\n",
       "      <td>477.227354</td>\n",
       "      <td>0.121132</td>\n",
       "      <td>30.380059</td>\n",
       "      <td>...</td>\n",
       "      <td>2</td>\n",
       "      <td>3</td>\n",
       "      <td>3</td>\n",
       "      <td>2017-01-31</td>\n",
       "      <td>12:04:59</td>\n",
       "      <td>2017</td>\n",
       "      <td>31</td>\n",
       "      <td>4226.166389</td>\n",
       "      <td>253569.983333</td>\n",
       "      <td>253570.0</td>\n",
       "    </tr>\n",
       "    <tr>\n",
       "      <th>5</th>\n",
       "      <td>4193</td>\n",
       "      <td>2016-11-18 15:24:01</td>\n",
       "      <td>60</td>\n",
       "      <td>-80.079202</td>\n",
       "      <td>40.408026</td>\n",
       "      <td>255.568182</td>\n",
       "      <td>15</td>\n",
       "      <td>455.181827</td>\n",
       "      <td>0.441932</td>\n",
       "      <td>7.983373</td>\n",
       "      <td>...</td>\n",
       "      <td>2</td>\n",
       "      <td>2</td>\n",
       "      <td>3</td>\n",
       "      <td>2016-11-18</td>\n",
       "      <td>15:24:01</td>\n",
       "      <td>2016</td>\n",
       "      <td>18</td>\n",
       "      <td>2453.483611</td>\n",
       "      <td>147209.016667</td>\n",
       "      <td>147209.0</td>\n",
       "    </tr>\n",
       "  </tbody>\n",
       "</table>\n",
       "<p>6 rows × 54 columns</p>\n",
       "</div>"
      ],
      "text/plain": [
       "   OBJECTID             datetime  run_index  Longitude   Latitude   Elevation  \\\n",
       "0     16091  2017-02-17 12:31:29     173565 -79.977161  40.430140  225.968182   \n",
       "1     10634  2017-02-02 09:50:38     122180 -79.997926  40.441055  274.931818   \n",
       "2      2485  2016-09-20 20:57:59      35619 -79.907425  40.490618         NaN   \n",
       "3     14692  2017-02-15 06:21:22     165359 -80.005746  40.438416  236.300000   \n",
       "4      8847  2017-01-31 12:04:59     115153 -79.956671  40.459469  295.581818   \n",
       "5      4193  2016-11-18 15:24:01         60 -80.079202  40.408026  255.568182   \n",
       "\n",
       "   hour         CO2        CO         NO  ...  period  season  type  \\\n",
       "0    12  517.372273  0.422173  17.615000  ...       2       3     4   \n",
       "1     9  499.572350  0.137255   8.555914  ...       1       3     4   \n",
       "2    20  469.582763  0.552017   1.452951  ...       3       1     3   \n",
       "3     6  520.905352  0.232678   3.899478  ...       1       3     4   \n",
       "4    12  477.227354  0.121132  30.380059  ...       2       3     3   \n",
       "5    15  455.181827  0.441932   7.983373  ...       2       2     3   \n",
       "\n",
       "         date      time  year  day  tot_hour_numeric  tot_min_numeric  \\\n",
       "0  2017-02-17  12:31:29  2017   17       4634.608056    278076.483333   \n",
       "1  2017-02-02  09:50:38  2017    2       4271.927222    256315.633333   \n",
       "2  2016-09-20  20:57:59  2016   20       1043.049722     62582.983333   \n",
       "3  2017-02-15  06:21:22  2017   15       4580.439444    274826.366667   \n",
       "4  2017-01-31  12:04:59  2017   31       4226.166389    253569.983333   \n",
       "5  2016-11-18  15:24:01  2016   18       2453.483611    147209.016667   \n",
       "\n",
       "   tot_min_rounded  \n",
       "0         278076.0  \n",
       "1         256316.0  \n",
       "2          62583.0  \n",
       "3         274826.0  \n",
       "4         253570.0  \n",
       "5         147209.0  \n",
       "\n",
       "[6 rows x 54 columns]"
      ]
     },
     "execution_count": 4,
     "metadata": {},
     "output_type": "execute_result"
    }
   ],
   "source": [
    "df_NO2.head(6)"
   ]
  },
  {
   "cell_type": "markdown",
   "id": "ae520a7a",
   "metadata": {},
   "source": [
    "Average observations that fall into the same minute category so that we have one row per observed minute (for the short-time Fourier transform)"
   ]
  },
  {
   "cell_type": "code",
   "execution_count": 5,
   "id": "7c1ce975",
   "metadata": {},
   "outputs": [
    {
     "data": {
      "text/html": [
       "<div>\n",
       "<style scoped>\n",
       "    .dataframe tbody tr th:only-of-type {\n",
       "        vertical-align: middle;\n",
       "    }\n",
       "\n",
       "    .dataframe tbody tr th {\n",
       "        vertical-align: top;\n",
       "    }\n",
       "\n",
       "    .dataframe thead th {\n",
       "        text-align: right;\n",
       "    }\n",
       "</style>\n",
       "<table border=\"1\" class=\"dataframe\">\n",
       "  <thead>\n",
       "    <tr style=\"text-align: right;\">\n",
       "      <th></th>\n",
       "      <th>tot_min_rounded</th>\n",
       "      <th>datetime</th>\n",
       "      <th>NO2</th>\n",
       "    </tr>\n",
       "  </thead>\n",
       "  <tbody>\n",
       "    <tr>\n",
       "      <th>0</th>\n",
       "      <td>1.0</td>\n",
       "      <td>2016-08-08 09:56:02</td>\n",
       "      <td>13.752167</td>\n",
       "    </tr>\n",
       "    <tr>\n",
       "      <th>1</th>\n",
       "      <td>2.0</td>\n",
       "      <td>2016-08-08 09:56:59</td>\n",
       "      <td>14.866519</td>\n",
       "    </tr>\n",
       "    <tr>\n",
       "      <th>2</th>\n",
       "      <td>4.0</td>\n",
       "      <td>2016-08-08 09:59:00</td>\n",
       "      <td>11.266365</td>\n",
       "    </tr>\n",
       "    <tr>\n",
       "      <th>3</th>\n",
       "      <td>5.0</td>\n",
       "      <td>2016-08-08 10:00:01</td>\n",
       "      <td>11.102795</td>\n",
       "    </tr>\n",
       "    <tr>\n",
       "      <th>4</th>\n",
       "      <td>6.0</td>\n",
       "      <td>2016-08-08 10:01:00</td>\n",
       "      <td>10.909147</td>\n",
       "    </tr>\n",
       "  </tbody>\n",
       "</table>\n",
       "</div>"
      ],
      "text/plain": [
       "   tot_min_rounded             datetime        NO2\n",
       "0              1.0  2016-08-08 09:56:02  13.752167\n",
       "1              2.0  2016-08-08 09:56:59  14.866519\n",
       "2              4.0  2016-08-08 09:59:00  11.266365\n",
       "3              5.0  2016-08-08 10:00:01  11.102795\n",
       "4              6.0  2016-08-08 10:01:00  10.909147"
      ]
     },
     "execution_count": 5,
     "metadata": {},
     "output_type": "execute_result"
    }
   ],
   "source": [
    "min_avg_NO2 = df_NO2.groupby('tot_min_rounded').agg({'datetime': 'first', 'NO2': 'mean'}).reset_index()\n",
    "min_avg_NO2.head()\n",
    "#min_avg_NO2['tot_min_rounded'].max()"
   ]
  },
  {
   "cell_type": "markdown",
   "id": "77b23a21",
   "metadata": {},
   "source": [
    "Examine the spacing of the sampling"
   ]
  },
  {
   "cell_type": "code",
   "execution_count": 6,
   "id": "e883732e",
   "metadata": {},
   "outputs": [
    {
     "name": "stdout",
     "output_type": "stream",
     "text": [
      "33         3.0\n",
      "45      1002.0\n",
      "55        55.0\n",
      "59         6.0\n",
      "60         2.0\n",
      "         ...  \n",
      "4477      50.0\n",
      "4502      23.0\n",
      "4596     492.0\n",
      "4679    2204.0\n",
      "4923     678.0\n",
      "Name: tot_min_rounded, Length: 207, dtype: float64\n"
     ]
    }
   ],
   "source": [
    "# Sort the DataFrame based on the column with integers\n",
    "sorted_df = min_avg_NO2.sort_values(by='tot_min_rounded')\n",
    "\n",
    "# Get the differences between consecutive values\n",
    "diff = sorted_df['tot_min_rounded'].diff()\n",
    "\n",
    "# Find where the differences are greater than 2 indicating a larger gap\n",
    "gaps = diff[diff > 2]\n",
    "\n",
    "# Compute the number of missing integers in each gap\n",
    "missing_counts = gaps - 1\n",
    "\n",
    "# Displaying the number of missing integers in each gap\n",
    "print(missing_counts)"
   ]
  },
  {
   "cell_type": "code",
   "execution_count": 29,
   "id": "fcf6ed83",
   "metadata": {},
   "outputs": [
    {
     "name": "stdout",
     "output_type": "stream",
     "text": [
      "(5129, 4)\n"
     ]
    }
   ],
   "source": [
    "# Remove one observation so that data has an odd number of observations - can't \n",
    "# get the calculation of the Fourier transform coefficients to with even\n",
    "min_avg_NO2 = min_avg_NO2[1:]\n",
    "print(min_avg_NO2.shape)"
   ]
  },
  {
   "cell_type": "markdown",
   "id": "7ba4b8ee",
   "metadata": {},
   "source": [
    "# Info on Non-uniform discrete Fourier Transform"
   ]
  },
  {
   "cell_type": "markdown",
   "id": "d1d78e97",
   "metadata": {},
   "source": [
    "The nonuniform discrete Fourier transform of type II (NUDFT-II) uses uniform (i.e. integer) frequencies but nonuniform sample points p_{n}. This corresponds to evaluating a Fourier series at nonequispaced points. It is also known as adjoint NDFT. In the FINUFFT package implementation this is called the \"type 1\" NUFFT."
   ]
  },
  {
   "cell_type": "markdown",
   "id": "524b47d9",
   "metadata": {},
   "source": [
    "## Example code from finufft documentation"
   ]
  },
  {
   "cell_type": "code",
   "execution_count": 30,
   "id": "239dd3bf",
   "metadata": {},
   "outputs": [],
   "source": [
    "# number of nonuniform points\n",
    "M = 100\n",
    "\n",
    "# the nonuniform points\n",
    "x = 2 * np.pi * np.random.uniform(size=M)\n",
    "\n",
    "# their complex strengths\n",
    "c = (np.random.standard_normal(size=M)\n",
    "    + 1J * np.random.standard_normal(size=M))"
   ]
  },
  {
   "cell_type": "markdown",
   "id": "e68f9edc",
   "metadata": {},
   "source": [
    "## Code for one day of data"
   ]
  },
  {
   "cell_type": "code",
   "execution_count": 31,
   "id": "2efac117",
   "metadata": {},
   "outputs": [
    {
     "name": "stderr",
     "output_type": "stream",
     "text": [
      "/var/folders/jb/d50lm02n7cz_c9129ll301m40000gn/T/ipykernel_41972/2006467439.py:2: SettingWithCopyWarning: \n",
      "A value is trying to be set on a copy of a slice from a DataFrame.\n",
      "Try using .loc[row_indexer,col_indexer] = value instead\n",
      "\n",
      "See the caveats in the documentation: https://pandas.pydata.org/pandas-docs/stable/user_guide/indexing.html#returning-a-view-versus-a-copy\n",
      "  min_avg_NO2['datetime'] = pd.to_datetime(min_avg_NO2['datetime'])\n",
      "/var/folders/jb/d50lm02n7cz_c9129ll301m40000gn/T/ipykernel_41972/2006467439.py:5: SettingWithCopyWarning: \n",
      "A value is trying to be set on a copy of a slice from a DataFrame.\n",
      "Try using .loc[row_indexer,col_indexer] = value instead\n",
      "\n",
      "See the caveats in the documentation: https://pandas.pydata.org/pandas-docs/stable/user_guide/indexing.html#returning-a-view-versus-a-copy\n",
      "  min_avg_NO2['day_of_year'] = min_avg_NO2['datetime'].dt.dayofyear\n"
     ]
    },
    {
     "data": {
      "text/html": [
       "<div>\n",
       "<style scoped>\n",
       "    .dataframe tbody tr th:only-of-type {\n",
       "        vertical-align: middle;\n",
       "    }\n",
       "\n",
       "    .dataframe tbody tr th {\n",
       "        vertical-align: top;\n",
       "    }\n",
       "\n",
       "    .dataframe thead th {\n",
       "        text-align: right;\n",
       "    }\n",
       "</style>\n",
       "<table border=\"1\" class=\"dataframe\">\n",
       "  <thead>\n",
       "    <tr style=\"text-align: right;\">\n",
       "      <th></th>\n",
       "      <th>tot_min_rounded</th>\n",
       "      <th>datetime</th>\n",
       "      <th>NO2</th>\n",
       "      <th>day_of_year</th>\n",
       "    </tr>\n",
       "  </thead>\n",
       "  <tbody>\n",
       "    <tr>\n",
       "      <th>3320</th>\n",
       "      <td>256063.0</td>\n",
       "      <td>2017-02-02 05:38:05</td>\n",
       "      <td>7.844182</td>\n",
       "      <td>33</td>\n",
       "    </tr>\n",
       "    <tr>\n",
       "      <th>3321</th>\n",
       "      <td>256064.0</td>\n",
       "      <td>2017-02-02 05:39:09</td>\n",
       "      <td>7.791027</td>\n",
       "      <td>33</td>\n",
       "    </tr>\n",
       "    <tr>\n",
       "      <th>3322</th>\n",
       "      <td>256065.0</td>\n",
       "      <td>2017-02-02 05:40:13</td>\n",
       "      <td>7.606351</td>\n",
       "      <td>33</td>\n",
       "    </tr>\n",
       "    <tr>\n",
       "      <th>3323</th>\n",
       "      <td>256066.0</td>\n",
       "      <td>2017-02-02 05:40:34</td>\n",
       "      <td>7.524876</td>\n",
       "      <td>33</td>\n",
       "    </tr>\n",
       "    <tr>\n",
       "      <th>3324</th>\n",
       "      <td>256067.0</td>\n",
       "      <td>2017-02-02 05:41:38</td>\n",
       "      <td>7.555510</td>\n",
       "      <td>33</td>\n",
       "    </tr>\n",
       "  </tbody>\n",
       "</table>\n",
       "</div>"
      ],
      "text/plain": [
       "      tot_min_rounded            datetime       NO2  day_of_year\n",
       "3320         256063.0 2017-02-02 05:38:05  7.844182           33\n",
       "3321         256064.0 2017-02-02 05:39:09  7.791027           33\n",
       "3322         256065.0 2017-02-02 05:40:13  7.606351           33\n",
       "3323         256066.0 2017-02-02 05:40:34  7.524876           33\n",
       "3324         256067.0 2017-02-02 05:41:38  7.555510           33"
      ]
     },
     "execution_count": 31,
     "metadata": {},
     "output_type": "execute_result"
    }
   ],
   "source": [
    "# Convert column named 'datetime' to actual datetime\n",
    "min_avg_NO2['datetime'] = pd.to_datetime(min_avg_NO2['datetime'])\n",
    "\n",
    "# add day of year \n",
    "min_avg_NO2['day_of_year'] = min_avg_NO2['datetime'].dt.dayofyear\n",
    "\n",
    "#see which days are included\n",
    "min_avg_NO2.groupby('day_of_year').count()\n",
    "\n",
    "day33 = min_avg_NO2[min_avg_NO2['day_of_year'] == 33]\n",
    "day33.head()"
   ]
  },
  {
   "cell_type": "code",
   "execution_count": null,
   "id": "0ec567d1",
   "metadata": {},
   "outputs": [],
   "source": []
  },
  {
   "cell_type": "code",
   "execution_count": 32,
   "id": "a52d50e1",
   "metadata": {},
   "outputs": [
    {
     "name": "stdout",
     "output_type": "stream",
     "text": [
      "3320    0.000000\n",
      "3321    0.019821\n",
      "3322    0.039642\n",
      "3323    0.059462\n",
      "3324    0.079283\n",
      "          ...   \n",
      "3629    6.203902\n",
      "3630    6.223723\n",
      "3631    6.243544\n",
      "3632    6.263365\n",
      "3633    6.283185\n",
      "Name: tot_min_rounded, Length: 314, dtype: float64\n"
     ]
    }
   ],
   "source": [
    "#see example code at https://finufft.readthedocs.io/en/latest/python.html\n",
    "c = day33['NO2'] #set the signal \"strengths\" to the observed outcome\n",
    "c_complex = np.array([complex(num, 0) for num in c])\n",
    "\n",
    "\n",
    "\n",
    "#need to normalize x to fall within [-3 pi , 3pi]\n",
    "x = day33['tot_min_rounded'] #location of observations\n",
    "x_norm = 2 * np.pi * (x - np.min(x))/(np.max(x) - np.min(x))\n",
    "\n",
    "N = len(day33['NO2']//2) #number of desired Fourier modes\n",
    "\n",
    "print(x_norm)"
   ]
  },
  {
   "cell_type": "code",
   "execution_count": 33,
   "id": "f1840d9e",
   "metadata": {},
   "outputs": [
    {
     "data": {
      "text/plain": [
       "<matplotlib.collections.PathCollection at 0x146876550>"
      ]
     },
     "execution_count": 33,
     "metadata": {},
     "output_type": "execute_result"
    },
    {
     "data": {
      "image/png": "[encoded data removed]",
      "text/plain": [
       "<Figure size 640x480 with 1 Axes>"
      ]
     },
     "metadata": {},
     "output_type": "display_data"
    }
   ],
   "source": [
    "plt.scatter(x = x_norm, y = c)"
   ]
  },
  {
   "cell_type": "code",
   "execution_count": 34,
   "id": "f8b9da49",
   "metadata": {},
   "outputs": [],
   "source": [
    "x_norm = np.ascontiguousarray(x_norm)\n",
    "c_complex = np.ascontiguousarray(c_complex)\n",
    "\n",
    "# calculate the type-1 NUFFT\n",
    "f = finufft.nufft1d1(x_norm, c_complex, N)\n",
    "\n",
    "\n"
   ]
  },
  {
   "cell_type": "markdown",
   "id": "7aba0a12",
   "metadata": {},
   "source": [
    "Find coefficients"
   ]
  },
  {
   "cell_type": "code",
   "execution_count": 36,
   "id": "9196cb7a",
   "metadata": {},
   "outputs": [
    {
     "name": "stdout",
     "output_type": "stream",
     "text": [
      "314 156 156\n",
      "[2.48697393e+05 1.74671941e+05 1.28836070e+04 4.70286490e+04\n",
      " 4.34936457e+04 2.60932387e+03 2.45781102e+04 3.71691993e+03\n",
      " 1.52788186e+04 1.17418528e+04 4.85969354e+02 8.34963447e+03\n",
      " 8.24586989e+03 7.99345535e+04 2.22608716e+04 1.67830849e+04\n",
      " 1.39670292e+04 1.15568270e+04 8.18606914e+03 2.36866087e+04\n",
      " 6.46113482e+03 2.42440377e+04 2.78063039e+04 1.08492900e+04\n",
      " 8.85734548e+03 1.11903769e+04 2.08713073e+04 3.78431658e+04\n",
      " 1.18626164e+04 9.05291691e+03 3.20658144e+03 4.41413345e+03\n",
      " 6.95275484e+03 2.67014564e+03 5.47801135e+02 3.78748585e+02\n",
      " 2.60630141e+04 1.98988351e+04 6.77432325e+03 2.32719987e+04\n",
      " 2.00473259e+04 3.10573075e+03 3.37041166e+03 4.94505506e+03\n",
      " 2.04779170e+04 1.07018602e+04 1.03593413e+04 2.01565369e+03\n",
      " 9.18310596e+03 2.28587781e+03 1.21280247e+04 6.61953870e+03\n",
      " 1.43728664e+03 5.34709533e+03 1.44675486e+04 1.66596119e+04\n",
      " 1.17184216e+04 2.40563214e+04 1.77216940e+04 2.49825963e+03\n",
      " 8.15154570e+03 2.71370674e+03 1.91638232e+03 1.20559642e+04\n",
      " 6.53447554e+03 7.15429209e+01 4.91154477e+02 1.39430220e+04\n",
      " 1.57159812e+03 8.60910544e+02 5.69106562e+03 5.91971640e+03\n",
      " 5.27913282e+03 9.96220141e+02 7.41743250e+03 6.31723433e+03\n",
      " 5.52560347e+03 4.22379606e+03 1.26288953e+04 3.13609027e+03\n",
      " 4.23754899e+02 1.29122348e+04 3.36467762e+03 2.06596631e+03\n",
      " 1.56165029e+03 6.15156250e+02 7.24256280e+02 4.97011147e+03\n",
      " 2.90956400e+03 1.15500766e+04 7.60382605e+03 5.60952172e+02\n",
      " 4.91104702e+03 4.88011709e+03 3.29264709e+03 2.09530368e+03\n",
      " 9.93822782e+01 1.15876531e+04 8.36646705e+03 5.09823719e+03\n",
      " 4.23773016e+03 2.98475100e+03 1.15424075e+03 4.24636022e+03\n",
      " 6.09108615e+03 4.84233686e+02 1.81440224e+03 4.00478273e+03\n",
      " 8.99184864e+03 1.40550726e+03 2.17635499e+03 8.88986126e+03\n",
      " 1.72701502e+03 8.56154168e+03 5.73563545e+03 2.08661648e+03\n",
      " 7.14540454e+03 3.34569218e+03 1.00301798e+03 7.38211920e+02\n",
      " 3.40336059e+03 2.71954333e+03 3.00398470e+03 8.31635586e+03\n",
      " 1.42358908e+03 1.52488346e+04 1.73196301e+04 1.28131980e+04\n",
      " 7.47496767e+02 1.69936690e+03 1.16051104e+04 9.23772965e+03\n",
      " 6.27964336e+03 3.48186919e+03 9.07190608e+02 4.58500448e+03\n",
      " 6.53694736e+03 6.87887452e+03 4.78098129e+03 6.94725835e+03\n",
      " 2.67653063e+03 3.86083101e+03 1.82046498e+03 3.93560082e+03\n",
      " 4.00854849e+03 5.27897194e+03 2.48519497e+03 4.35211875e+03\n",
      " 4.05906848e+03 1.54159603e+03 3.63686142e+03 1.37240704e+03\n",
      " 1.03570642e+04 2.25686301e+03 1.98848341e+02 5.68611427e+03]\n"
     ]
    }
   ],
   "source": [
    "#data is indexed by -N1/2 <= k1 <= (N1-1)/2 \n",
    "#a_n = 2*f.real\n",
    "#b_n = -2*f.imag\n",
    "\n",
    "\n",
    "k_neg = np.flip(f[1: len(f)//2])\n",
    "k_pos = f[len(f)//2 + 1:]\n",
    "print(len(f),len(k_neg), len(k_pos))\n",
    "\n",
    "C_n = np.abs(k_neg)**2 + np.abs(k_pos)**2\n",
    "print(C_n)\n",
    "\n"
   ]
  },
  {
   "cell_type": "markdown",
   "id": "82b32f95",
   "metadata": {},
   "source": [
    "Plot An and Bn"
   ]
  },
  {
   "cell_type": "code",
   "execution_count": 16,
   "id": "1f7d1224",
   "metadata": {},
   "outputs": [
    {
     "data": {
      "text/plain": [
       "314"
      ]
     },
     "execution_count": 16,
     "metadata": {},
     "output_type": "execute_result"
    }
   ],
   "source": [
    "len(f)//2\n",
    "157 + 157"
   ]
  },
  {
   "cell_type": "code",
   "execution_count": 37,
   "id": "a47d96fd",
   "metadata": {},
   "outputs": [
    {
     "data": {
      "image/png": "[encoded data removed]",
      "text/plain": [
       "<Figure size 800x500 with 1 Axes>"
      ]
     },
     "metadata": {},
     "output_type": "display_data"
    }
   ],
   "source": [
    "x_val = range(0, len(C_n))\n",
    "\n",
    "fontsize = 15\n",
    "\n",
    "plt.figure(figsize=(8,5), dpi=100)\n",
    "colors = ['black','grey']\n",
    "#plt.plot(x_val, a_n, 'x', label=r'$A_n$', color=colors[0], ms=6, alpha=0.8)\n",
    "#plt.plot(x_val, b_n, 'D', label=r'$B_n$', color=colors[1], ms=6, alpha=0.8)\n",
    "plt.plot(x_val, C_n, label=r'$C_n$', color = \"blue\", ms = 6, alpha = 0.7)\n",
    "\n",
    "plt.legend(fontsize=fontsize)\n",
    "plt.ylabel(r'Amplitude of $A_n$ or $B_n$', fontsize=fontsize)\n",
    "plt.xlabel('Frequency mode', fontsize=fontsize)\n",
    "plt.tick_params(axis='both', labelsize=fontsize * 0.7)\n",
    "plt.title('Fourier Series Day 33', fontsize=fontsize)\n",
    "plt.show()"
   ]
  },
  {
   "cell_type": "code",
   "execution_count": 18,
   "id": "54907b5e",
   "metadata": {},
   "outputs": [
    {
     "data": {
      "text/plain": [
       "array([  0,   1,   2,  14,   4,  13,   3,  27,  22,  28,   5,  37,  40,\n",
       "        58,  15,  23,  57, 126,  26,  19])"
      ]
     },
     "execution_count": 18,
     "metadata": {},
     "output_type": "execute_result"
    }
   ],
   "source": [
    "np.argsort(-C_n)[0:20,]"
   ]
  },
  {
   "cell_type": "code",
   "execution_count": 19,
   "id": "1a543876",
   "metadata": {},
   "outputs": [
    {
     "data": {
      "text/plain": [
       "317.0"
      ]
     },
     "execution_count": 19,
     "metadata": {},
     "output_type": "execute_result"
    }
   ],
   "source": [
    "#total number of minutes of sampling for day 33\n",
    "mins_in_day33 = max(day33['tot_min_rounded']) - min(day33['tot_min_rounded'])\n",
    "mins_in_day33"
   ]
  },
  {
   "cell_type": "code",
   "execution_count": null,
   "id": "b12697e4",
   "metadata": {},
   "outputs": [],
   "source": [
    "# frequencies with highest vals of coeffs in minutes\n",
    "mins_in_day33/13\n",
    "mins_in_day33/3"
   ]
  },
  {
   "cell_type": "markdown",
   "id": "8b4b1513",
   "metadata": {},
   "source": [
    "From this we can see that we have a daily trend, a 1/13th day trend, a 1/3 day trend and a 1/21 day trend. Where \"day\" is the entire study period for which I have data on day 33, ie 317 minutes. "
   ]
  },
  {
   "cell_type": "markdown",
   "id": "d7dc591b",
   "metadata": {},
   "source": [
    "### Reconstruct the signal from the frequencies"
   ]
  },
  {
   "cell_type": "code",
   "execution_count": null,
   "id": "18015803",
   "metadata": {},
   "outputs": [],
   "source": []
  },
  {
   "cell_type": "code",
   "execution_count": null,
   "id": "681f4aff",
   "metadata": {},
   "outputs": [],
   "source": []
  },
  {
   "cell_type": "code",
   "execution_count": null,
   "id": "c661f08d",
   "metadata": {},
   "outputs": [],
   "source": []
  },
  {
   "cell_type": "markdown",
   "id": "d033e227",
   "metadata": {},
   "source": [
    "## Code for NO2 data"
   ]
  },
  {
   "cell_type": "code",
   "execution_count": 38,
   "id": "7be0bdd8",
   "metadata": {},
   "outputs": [
    {
     "name": "stdout",
     "output_type": "stream",
     "text": [
      "1       0.000000\n",
      "2       0.000023\n",
      "3       0.000034\n",
      "4       0.000045\n",
      "5       0.000056\n",
      "          ...   \n",
      "5125    3.141547\n",
      "5126    3.141559\n",
      "5127    3.141570\n",
      "5128    3.141581\n",
      "5129    3.141593\n",
      "Name: tot_min_rounded, Length: 5129, dtype: float64\n"
     ]
    }
   ],
   "source": [
    "c = min_avg_NO2['NO2'] #set the signal \"strengths\" to the observed outcome\n",
    "c_complex = np.array([complex(num, 0) for num in c])\n",
    "\n",
    "\n",
    "\n",
    "#need to normalize x to fall within [-3 pi , 3pi]\n",
    "x = min_avg_NO2 ['tot_min_rounded'] #location of observations\n",
    "x_norm = 1 * np.pi * (x - np.min(x))/(np.max(x) - np.min(x))\n",
    "\n",
    "N = len(min_avg_NO2 ['NO2']//2) #number of desired Fourier modes\n",
    "print(x_norm)"
   ]
  },
  {
   "cell_type": "code",
   "execution_count": 39,
   "id": "3f13582b",
   "metadata": {},
   "outputs": [],
   "source": [
    "x_norm = np.ascontiguousarray(x_norm)\n",
    "c_complex = np.ascontiguousarray(c_complex)\n",
    "\n",
    "# calculate the type-1 NUFFT\n",
    "f = finufft.nufft1d1(x_norm, c_complex, N)"
   ]
  },
  {
   "cell_type": "code",
   "execution_count": 47,
   "id": "5fcf0a56",
   "metadata": {},
   "outputs": [
    {
     "data": {
      "text/plain": [
       "5129"
      ]
     },
     "execution_count": 47,
     "metadata": {},
     "output_type": "execute_result"
    }
   ],
   "source": [
    "#check indexing of Cn makes sense\n",
    "2564 + 1 + 2564"
   ]
  },
  {
   "cell_type": "code",
   "execution_count": 48,
   "id": "3c5e1c6b",
   "metadata": {},
   "outputs": [
    {
     "name": "stdout",
     "output_type": "stream",
     "text": [
      "2564\n",
      "5129 2564 2564\n",
      "[4.45789004e+09 2.71229687e+09 2.79334347e+09 ... 1.90151777e+07\n",
      " 2.26827778e+07 2.28587711e+07]\n"
     ]
    }
   ],
   "source": [
    "# coefficients\n",
    "print(len(f)//2)\n",
    "k_neg = np.flip(f[1: len(f)//2 + 1])\n",
    "k_pos = f[len(f)//2 + 1:]\n",
    "print(len(f),len(k_neg), len(k_pos))\n",
    "\n",
    "C_n = np.abs(k_neg)**2 + np.abs(k_pos)**2\n",
    "print(C_n)\n"
   ]
  },
  {
   "cell_type": "markdown",
   "id": "7b7ca84e",
   "metadata": {},
   "source": [
    "Plot fourier coefficient"
   ]
  },
  {
   "cell_type": "code",
   "execution_count": 54,
   "id": "5ceb40ea",
   "metadata": {},
   "outputs": [
    {
     "data": {
      "image/png": "[encoded data removed]",
      "text/plain": [
       "<Figure size 800x500 with 1 Axes>"
      ]
     },
     "metadata": {},
     "output_type": "display_data"
    }
   ],
   "source": [
    "x_val = range(0, len(C_n))\n",
    "\n",
    "fontsize = 15\n",
    "\n",
    "plt.figure(figsize=(8,5), dpi=100)\n",
    "colors = ['black','grey']\n",
    "#plt.plot(x_val, a_n, 'x', label=r'$A_n$', color=colors[0], ms=6, alpha=0.8)\n",
    "#plt.plot(x_val, b_n, 'D', label=r'$B_n$', color=colors[1], ms=6, alpha=0.8)\n",
    "# convert y-axis to Logarithmic scale \n",
    "plt.yscale(\"log\")   \n",
    "\n",
    "plt.plot(x_val, C_n, label=r'$C_n$', color = \"blue\", ms = 6, alpha = 0.7)\n",
    "\n",
    "plt.legend(fontsize=fontsize)\n",
    "plt.ylabel(r'Amplitude of C_n', fontsize=fontsize)\n",
    "plt.xlabel('Frequency mode, f_k', fontsize=fontsize)\n",
    "plt.tick_params(axis='both', labelsize=fontsize * 0.7)\n",
    "plt.title('Entire study period', fontsize=fontsize)\n",
    "plt.show()"
   ]
  },
  {
   "cell_type": "code",
   "execution_count": 50,
   "id": "14d7825c",
   "metadata": {},
   "outputs": [
    {
     "data": {
      "text/plain": [
       "array([  0,   2,   1,   5,   4,   3,   6,  54,  55, 712,  52, 209, 210,\n",
       "       715,  49, 713, 381, 386,   8, 204,  51,  50, 453,  53, 663, 716,\n",
       "       714, 717, 718, 710,  21,   7, 711, 658,  20,  17, 662, 382, 205,\n",
       "        34, 556, 591, 385, 557, 387, 657, 380, 265, 452, 709])"
      ]
     },
     "execution_count": 50,
     "metadata": {},
     "output_type": "execute_result"
    }
   ],
   "source": [
    "np.argsort(-C_n)[0:50]"
   ]
  },
  {
   "cell_type": "code",
   "execution_count": null,
   "id": "9b0680ec",
   "metadata": {},
   "outputs": [],
   "source": []
  },
  {
   "cell_type": "code",
   "execution_count": 59,
   "id": "c4017b53",
   "metadata": {},
   "outputs": [
    {
     "name": "stdout",
     "output_type": "stream",
     "text": [
      "278175.0\n",
      "[  0   2   1   5   4   3   6  54  55 712  52 209 210 715  49 713 381 386\n",
      "   8 204  51  50 453  53 663 716 714 717 718 710  21   7 711 658  20  17\n",
      " 662 382 205  34 556 591 385 557 387 657 380 265 452 709]\n",
      "[2318.125      4636.25        927.25       1159.0625     1545.41666667\n",
      "  772.70833333   85.85648148   84.29545455    6.51158708   89.15865385\n",
      "   22.18301435   22.07738095    6.48426573   94.61734694]\n",
      "[ 96.58854167 193.17708333  38.63541667  48.29427083  64.39236111\n",
      "  32.19618056   3.5773534    3.51231061   0.27131613   3.71494391\n",
      "   0.92429226   0.91989087   0.27017774   3.94238946]\n"
     ]
    }
   ],
   "source": [
    "# need to reverse the normalization to find the important periodicity\n",
    "#x_norm = 1 * np.pi * (x - np.min(x))/(np.max(x) - np.min(x))\n",
    "total_mins = max(min_avg_NO2['tot_min_rounded']) - min(min_avg_NO2['tot_min_rounded']) #total study period\n",
    "print(total_mins)\n",
    "fk_unnorm = C_n * total_mins / np.pi \n",
    "\n",
    "print(np.argsort(-fk_unnorm)[0:50])\n",
    "\n",
    "#periodicity is to 1/f * study period \n",
    "p_hours = 1 / np.argsort(-fk_unnorm)[1:15] * total_mins / 60 #in hours\n",
    "p_days = 1 / np.argsort(-fk_unnorm)[1:15] * total_mins / 60 * 1/24 #in days\n",
    "print(p_hours)\n",
    "print(p_days)\n"
   ]
  },
  {
   "cell_type": "markdown",
   "id": "487cdb9c",
   "metadata": {},
   "source": [
    "Based on this, it looks like there is periodicity at ~ 193 days (seasonal), ~ 3.6 days (weekly), ~ 6.5 hours (daily), and 22 hours (daily) "
   ]
  },
  {
   "cell_type": "code",
   "execution_count": 60,
   "id": "118997b2",
   "metadata": {},
   "outputs": [
    {
     "name": "stdout",
     "output_type": "stream",
     "text": [
      "~193.18 days is:  278179.2 mins\n",
      "3.6 days is :  5184.0 mins\n",
      "6.5 hours is:  390.0 mins\n",
      "22.1 hours is: 1332.0 mins\n"
     ]
    }
   ],
   "source": [
    "#In minutes, that is\n",
    "print(\"~193.18 days is: \", 193.18 * 60 * 24, \"mins\")\n",
    "print(\"3.6 days is : \", 3.6 * 60 * 24, \"mins\")\n",
    "print(\"6.5 hours is: \", 6.5 * 60, \"mins\")\n",
    "print(\"22.1 hours is:\", 22.2 * 60, \"mins\")\n"
   ]
  },
  {
   "cell_type": "code",
   "execution_count": null,
   "id": "e9af6591",
   "metadata": {},
   "outputs": [],
   "source": []
  },
  {
   "cell_type": "code",
   "execution_count": null,
   "id": "7b42bbab",
   "metadata": {},
   "outputs": [],
   "source": []
  }
 ],
 "metadata": {
  "kernelspec": {
   "display_name": "Python 3 (ipykernel)",
   "language": "python",
   "name": "python3"
  },
  "language_info": {
   "codemirror_mode": {
    "name": "ipython",
    "version": 3
   },
   "file_extension": ".py",
   "mimetype": "text/x-python",
   "name": "python",
   "nbconvert_exporter": "python",
   "pygments_lexer": "ipython3",
   "version": "3.12.0"
  }
 },
 "nbformat": 4,
 "nbformat_minor": 5
}
